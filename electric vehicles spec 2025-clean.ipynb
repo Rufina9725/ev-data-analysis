{
 "cells": [
  {
   "cell_type": "code",
   "execution_count": 2,
   "id": "af026245-b35a-4366-ab84-fd5b3b25a0fa",
   "metadata": {},
   "outputs": [
    {
     "data": {
      "text/plain": [
       "'/Users/macuser'"
      ]
     },
     "execution_count": 2,
     "metadata": {},
     "output_type": "execute_result"
    }
   ],
   "source": [
    "import os\n",
    "os.getcwd()"
   ]
  },
  {
   "cell_type": "code",
   "execution_count": 3,
   "id": "6957fdaf-f5d5-468d-a561-7d354b378ea5",
   "metadata": {},
   "outputs": [],
   "source": [
    "import pandas as pd\n",
    "import matplotlib.pyplot as plt\n",
    "import seaborn as sns"
   ]
  },
  {
   "cell_type": "code",
   "execution_count": 4,
   "id": "a5f0db26-a465-426a-8380-33adffa0cdc9",
   "metadata": {},
   "outputs": [],
   "source": [
    "df=pd.read_csv(\"/Users/macuser/Desktop/electric_vehicles_spec_2025.csv\")"
   ]
  },
  {
   "cell_type": "code",
   "execution_count": 5,
   "id": "627e0861-844e-4868-8321-7a724f94135d",
   "metadata": {},
   "outputs": [
    {
     "data": {
      "text/html": [
       "<div>\n",
       "<style scoped>\n",
       "    .dataframe tbody tr th:only-of-type {\n",
       "        vertical-align: middle;\n",
       "    }\n",
       "\n",
       "    .dataframe tbody tr th {\n",
       "        vertical-align: top;\n",
       "    }\n",
       "\n",
       "    .dataframe thead th {\n",
       "        text-align: right;\n",
       "    }\n",
       "</style>\n",
       "<table border=\"1\" class=\"dataframe\">\n",
       "  <thead>\n",
       "    <tr style=\"text-align: right;\">\n",
       "      <th></th>\n",
       "      <th>brand</th>\n",
       "      <th>model</th>\n",
       "      <th>top_speed_kmh</th>\n",
       "      <th>battery_capacity_kWh</th>\n",
       "      <th>battery_type</th>\n",
       "      <th>number_of_cells</th>\n",
       "      <th>torque_nm</th>\n",
       "      <th>efficiency_wh_per_km</th>\n",
       "      <th>range_km</th>\n",
       "      <th>acceleration_0_100_s</th>\n",
       "      <th>...</th>\n",
       "      <th>towing_capacity_kg</th>\n",
       "      <th>cargo_volume_l</th>\n",
       "      <th>seats</th>\n",
       "      <th>drivetrain</th>\n",
       "      <th>segment</th>\n",
       "      <th>length_mm</th>\n",
       "      <th>width_mm</th>\n",
       "      <th>height_mm</th>\n",
       "      <th>car_body_type</th>\n",
       "      <th>source_url</th>\n",
       "    </tr>\n",
       "  </thead>\n",
       "  <tbody>\n",
       "    <tr>\n",
       "      <th>0</th>\n",
       "      <td>Abarth</td>\n",
       "      <td>500e Convertible</td>\n",
       "      <td>155</td>\n",
       "      <td>37.8</td>\n",
       "      <td>Lithium-ion</td>\n",
       "      <td>192.0</td>\n",
       "      <td>235.0</td>\n",
       "      <td>156</td>\n",
       "      <td>225</td>\n",
       "      <td>7.0</td>\n",
       "      <td>...</td>\n",
       "      <td>0.0</td>\n",
       "      <td>185</td>\n",
       "      <td>4</td>\n",
       "      <td>FWD</td>\n",
       "      <td>B - Compact</td>\n",
       "      <td>3673</td>\n",
       "      <td>1683</td>\n",
       "      <td>1518</td>\n",
       "      <td>Hatchback</td>\n",
       "      <td>https://ev-database.org/car/1904/Abarth-500e-C...</td>\n",
       "    </tr>\n",
       "    <tr>\n",
       "      <th>1</th>\n",
       "      <td>Abarth</td>\n",
       "      <td>500e Hatchback</td>\n",
       "      <td>155</td>\n",
       "      <td>37.8</td>\n",
       "      <td>Lithium-ion</td>\n",
       "      <td>192.0</td>\n",
       "      <td>235.0</td>\n",
       "      <td>149</td>\n",
       "      <td>225</td>\n",
       "      <td>7.0</td>\n",
       "      <td>...</td>\n",
       "      <td>0.0</td>\n",
       "      <td>185</td>\n",
       "      <td>4</td>\n",
       "      <td>FWD</td>\n",
       "      <td>B - Compact</td>\n",
       "      <td>3673</td>\n",
       "      <td>1683</td>\n",
       "      <td>1518</td>\n",
       "      <td>Hatchback</td>\n",
       "      <td>https://ev-database.org/car/1903/Abarth-500e-H...</td>\n",
       "    </tr>\n",
       "    <tr>\n",
       "      <th>2</th>\n",
       "      <td>Abarth</td>\n",
       "      <td>600e Scorpionissima</td>\n",
       "      <td>200</td>\n",
       "      <td>50.8</td>\n",
       "      <td>Lithium-ion</td>\n",
       "      <td>102.0</td>\n",
       "      <td>345.0</td>\n",
       "      <td>158</td>\n",
       "      <td>280</td>\n",
       "      <td>5.9</td>\n",
       "      <td>...</td>\n",
       "      <td>0.0</td>\n",
       "      <td>360</td>\n",
       "      <td>5</td>\n",
       "      <td>FWD</td>\n",
       "      <td>JB - Compact</td>\n",
       "      <td>4187</td>\n",
       "      <td>1779</td>\n",
       "      <td>1557</td>\n",
       "      <td>SUV</td>\n",
       "      <td>https://ev-database.org/car/3057/Abarth-600e-S...</td>\n",
       "    </tr>\n",
       "    <tr>\n",
       "      <th>3</th>\n",
       "      <td>Abarth</td>\n",
       "      <td>600e Turismo</td>\n",
       "      <td>200</td>\n",
       "      <td>50.8</td>\n",
       "      <td>Lithium-ion</td>\n",
       "      <td>102.0</td>\n",
       "      <td>345.0</td>\n",
       "      <td>158</td>\n",
       "      <td>280</td>\n",
       "      <td>6.2</td>\n",
       "      <td>...</td>\n",
       "      <td>0.0</td>\n",
       "      <td>360</td>\n",
       "      <td>5</td>\n",
       "      <td>FWD</td>\n",
       "      <td>JB - Compact</td>\n",
       "      <td>4187</td>\n",
       "      <td>1779</td>\n",
       "      <td>1557</td>\n",
       "      <td>SUV</td>\n",
       "      <td>https://ev-database.org/car/3056/Abarth-600e-T...</td>\n",
       "    </tr>\n",
       "    <tr>\n",
       "      <th>4</th>\n",
       "      <td>Aiways</td>\n",
       "      <td>U5</td>\n",
       "      <td>150</td>\n",
       "      <td>60.0</td>\n",
       "      <td>Lithium-ion</td>\n",
       "      <td>NaN</td>\n",
       "      <td>310.0</td>\n",
       "      <td>156</td>\n",
       "      <td>315</td>\n",
       "      <td>7.5</td>\n",
       "      <td>...</td>\n",
       "      <td>NaN</td>\n",
       "      <td>496</td>\n",
       "      <td>5</td>\n",
       "      <td>FWD</td>\n",
       "      <td>JC - Medium</td>\n",
       "      <td>4680</td>\n",
       "      <td>1865</td>\n",
       "      <td>1700</td>\n",
       "      <td>SUV</td>\n",
       "      <td>https://ev-database.org/car/1678/Aiways-U5</td>\n",
       "    </tr>\n",
       "  </tbody>\n",
       "</table>\n",
       "<p>5 rows × 22 columns</p>\n",
       "</div>"
      ],
      "text/plain": [
       "    brand                model  top_speed_kmh  battery_capacity_kWh  \\\n",
       "0  Abarth     500e Convertible            155                  37.8   \n",
       "1  Abarth       500e Hatchback            155                  37.8   \n",
       "2  Abarth  600e Scorpionissima            200                  50.8   \n",
       "3  Abarth         600e Turismo            200                  50.8   \n",
       "4  Aiways                   U5            150                  60.0   \n",
       "\n",
       "  battery_type  number_of_cells  torque_nm  efficiency_wh_per_km  range_km  \\\n",
       "0  Lithium-ion            192.0      235.0                   156       225   \n",
       "1  Lithium-ion            192.0      235.0                   149       225   \n",
       "2  Lithium-ion            102.0      345.0                   158       280   \n",
       "3  Lithium-ion            102.0      345.0                   158       280   \n",
       "4  Lithium-ion              NaN      310.0                   156       315   \n",
       "\n",
       "   acceleration_0_100_s  ...  towing_capacity_kg cargo_volume_l  seats  \\\n",
       "0                   7.0  ...                 0.0            185      4   \n",
       "1                   7.0  ...                 0.0            185      4   \n",
       "2                   5.9  ...                 0.0            360      5   \n",
       "3                   6.2  ...                 0.0            360      5   \n",
       "4                   7.5  ...                 NaN            496      5   \n",
       "\n",
       "  drivetrain       segment length_mm width_mm  height_mm  car_body_type  \\\n",
       "0        FWD   B - Compact      3673     1683       1518      Hatchback   \n",
       "1        FWD   B - Compact      3673     1683       1518      Hatchback   \n",
       "2        FWD  JB - Compact      4187     1779       1557            SUV   \n",
       "3        FWD  JB - Compact      4187     1779       1557            SUV   \n",
       "4        FWD   JC - Medium      4680     1865       1700            SUV   \n",
       "\n",
       "                                          source_url  \n",
       "0  https://ev-database.org/car/1904/Abarth-500e-C...  \n",
       "1  https://ev-database.org/car/1903/Abarth-500e-H...  \n",
       "2  https://ev-database.org/car/3057/Abarth-600e-S...  \n",
       "3  https://ev-database.org/car/3056/Abarth-600e-T...  \n",
       "4         https://ev-database.org/car/1678/Aiways-U5  \n",
       "\n",
       "[5 rows x 22 columns]"
      ]
     },
     "execution_count": 5,
     "metadata": {},
     "output_type": "execute_result"
    }
   ],
   "source": [
    "df.head()"
   ]
  },
  {
   "cell_type": "code",
   "execution_count": 6,
   "id": "d5ad8ec9-f13f-40b6-8bdb-462e0110f22b",
   "metadata": {},
   "outputs": [
    {
     "data": {
      "text/plain": [
       "(478, 22)"
      ]
     },
     "execution_count": 6,
     "metadata": {},
     "output_type": "execute_result"
    }
   ],
   "source": [
    "df.shape\n"
   ]
  },
  {
   "cell_type": "code",
   "execution_count": 7,
   "id": "28419607-efef-4bbf-b49a-21a480de4659",
   "metadata": {},
   "outputs": [
    {
     "name": "stdout",
     "output_type": "stream",
     "text": [
      "<class 'pandas.core.frame.DataFrame'>\n",
      "RangeIndex: 478 entries, 0 to 477\n",
      "Data columns (total 22 columns):\n",
      " #   Column                     Non-Null Count  Dtype  \n",
      "---  ------                     --------------  -----  \n",
      " 0   brand                      478 non-null    object \n",
      " 1   model                      477 non-null    object \n",
      " 2   top_speed_kmh              478 non-null    int64  \n",
      " 3   battery_capacity_kWh       478 non-null    float64\n",
      " 4   battery_type               478 non-null    object \n",
      " 5   number_of_cells            276 non-null    float64\n",
      " 6   torque_nm                  471 non-null    float64\n",
      " 7   efficiency_wh_per_km       478 non-null    int64  \n",
      " 8   range_km                   478 non-null    int64  \n",
      " 9   acceleration_0_100_s       478 non-null    float64\n",
      " 10  fast_charging_power_kw_dc  477 non-null    float64\n",
      " 11  fast_charge_port           477 non-null    object \n",
      " 12  towing_capacity_kg         452 non-null    float64\n",
      " 13  cargo_volume_l             477 non-null    object \n",
      " 14  seats                      478 non-null    int64  \n",
      " 15  drivetrain                 478 non-null    object \n",
      " 16  segment                    478 non-null    object \n",
      " 17  length_mm                  478 non-null    int64  \n",
      " 18  width_mm                   478 non-null    int64  \n",
      " 19  height_mm                  478 non-null    int64  \n",
      " 20  car_body_type              478 non-null    object \n",
      " 21  source_url                 478 non-null    object \n",
      "dtypes: float64(6), int64(7), object(9)\n",
      "memory usage: 82.3+ KB\n"
     ]
    }
   ],
   "source": [
    "df.info()"
   ]
  },
  {
   "cell_type": "code",
   "execution_count": 8,
   "id": "2d65f47d-f952-4cb7-ac9f-3c9868cbc9dc",
   "metadata": {},
   "outputs": [
    {
     "data": {
      "text/plain": [
       "array(['185', '360', '496', '472', '400', '326', '502', '520', '535',\n",
       "       '526', '511', '10 Banana Boxes', '514', '350', '405', '470', '490',\n",
       "       '570', '500', '525', '440', '345', '308', '552', '235', '385',\n",
       "       '540', '793', '775', '1050', '310', '460', '380', '510', '603',\n",
       "       '989', '390', '620', '467', '361', '572', '536', '519', '523', nan,\n",
       "       '672', '228', '333', '354', '432', '503', '438', '280', '480',\n",
       "       '401', '338', '466', '505', '355', '550', '839', '435', '475',\n",
       "       '309', '210', '522', '316', '611', '509', '456', '410', '249',\n",
       "       '363', '479', '453', '448', '151', '270', '31 Banana Boxes', '340',\n",
       "       '495', '430', '645', '13 Banana Boxes', '828', '551', '1410',\n",
       "       '1030', '555', '1390', '990', '300', '200', '579', '265', '386',\n",
       "       '450', '468', '415', '819', '352', '516', '267', '434', '588',\n",
       "       '412', '608', '471', '348', '407', '484', '446', '366', '367',\n",
       "       '420', '950', '545', '585', '313', '323', '370', '630', '441',\n",
       "       '594', '709', '425', '854', '452', '376', '1340', '1121', '543',\n",
       "       '549', '532', '605', '404', '318', '571', '660', '539', '362'],\n",
       "      dtype=object)"
      ]
     },
     "execution_count": 8,
     "metadata": {},
     "output_type": "execute_result"
    }
   ],
   "source": [
    "df[\"cargo_volume_l\"].unique()"
   ]
  },
  {
   "cell_type": "code",
   "execution_count": 9,
   "id": "c187e56f-152a-41cb-83e6-1cf2fa5c98cd",
   "metadata": {},
   "outputs": [],
   "source": [
    "df[\"cargo_volume_l\"]=pd.to_numeric(df[\"cargo_volume_l\"],errors=\"coerce\")"
   ]
  },
  {
   "cell_type": "code",
   "execution_count": 10,
   "id": "47a0daee-b8f2-4a1e-a39c-67fd8c642141",
   "metadata": {},
   "outputs": [
    {
     "data": {
      "text/plain": [
       "dtype('float64')"
      ]
     },
     "execution_count": 10,
     "metadata": {},
     "output_type": "execute_result"
    }
   ],
   "source": [
    "df['cargo_volume_l'].dtype"
   ]
  },
  {
   "cell_type": "code",
   "execution_count": 11,
   "id": "a4cbcdac-82e0-4dfe-a5df-acb46435970f",
   "metadata": {},
   "outputs": [
    {
     "data": {
      "text/plain": [
       "brand                          0\n",
       "model                          1\n",
       "top_speed_kmh                  0\n",
       "battery_capacity_kWh           0\n",
       "battery_type                   0\n",
       "number_of_cells              202\n",
       "torque_nm                      7\n",
       "efficiency_wh_per_km           0\n",
       "range_km                       0\n",
       "acceleration_0_100_s           0\n",
       "fast_charging_power_kw_dc      1\n",
       "fast_charge_port               1\n",
       "towing_capacity_kg            26\n",
       "cargo_volume_l                 4\n",
       "seats                          0\n",
       "drivetrain                     0\n",
       "segment                        0\n",
       "length_mm                      0\n",
       "width_mm                       0\n",
       "height_mm                      0\n",
       "car_body_type                  0\n",
       "source_url                     0\n",
       "dtype: int64"
      ]
     },
     "execution_count": 11,
     "metadata": {},
     "output_type": "execute_result"
    }
   ],
   "source": [
    "df.isnull().sum()"
   ]
  },
  {
   "cell_type": "code",
   "execution_count": 12,
   "id": "029e633a-d4fc-4b94-aa67-24c33fee86c5",
   "metadata": {},
   "outputs": [
    {
     "data": {
      "text/html": [
       "<div>\n",
       "<style scoped>\n",
       "    .dataframe tbody tr th:only-of-type {\n",
       "        vertical-align: middle;\n",
       "    }\n",
       "\n",
       "    .dataframe tbody tr th {\n",
       "        vertical-align: top;\n",
       "    }\n",
       "\n",
       "    .dataframe thead th {\n",
       "        text-align: right;\n",
       "    }\n",
       "</style>\n",
       "<table border=\"1\" class=\"dataframe\">\n",
       "  <thead>\n",
       "    <tr style=\"text-align: right;\">\n",
       "      <th></th>\n",
       "      <th>top_speed_kmh</th>\n",
       "      <th>battery_capacity_kWh</th>\n",
       "      <th>number_of_cells</th>\n",
       "      <th>torque_nm</th>\n",
       "      <th>efficiency_wh_per_km</th>\n",
       "      <th>range_km</th>\n",
       "      <th>acceleration_0_100_s</th>\n",
       "      <th>fast_charging_power_kw_dc</th>\n",
       "      <th>towing_capacity_kg</th>\n",
       "      <th>cargo_volume_l</th>\n",
       "      <th>seats</th>\n",
       "      <th>length_mm</th>\n",
       "      <th>width_mm</th>\n",
       "      <th>height_mm</th>\n",
       "    </tr>\n",
       "  </thead>\n",
       "  <tbody>\n",
       "    <tr>\n",
       "      <th>count</th>\n",
       "      <td>478.000000</td>\n",
       "      <td>478.000000</td>\n",
       "      <td>276.000000</td>\n",
       "      <td>471.000000</td>\n",
       "      <td>478.000000</td>\n",
       "      <td>478.000000</td>\n",
       "      <td>478.000000</td>\n",
       "      <td>477.000000</td>\n",
       "      <td>452.000000</td>\n",
       "      <td>474.000000</td>\n",
       "      <td>478.000000</td>\n",
       "      <td>478.000000</td>\n",
       "      <td>478.000000</td>\n",
       "      <td>478.000000</td>\n",
       "    </tr>\n",
       "    <tr>\n",
       "      <th>mean</th>\n",
       "      <td>185.487448</td>\n",
       "      <td>74.043724</td>\n",
       "      <td>485.293478</td>\n",
       "      <td>498.012739</td>\n",
       "      <td>162.903766</td>\n",
       "      <td>393.179916</td>\n",
       "      <td>6.882636</td>\n",
       "      <td>125.008386</td>\n",
       "      <td>1052.261062</td>\n",
       "      <td>493.860759</td>\n",
       "      <td>5.263598</td>\n",
       "      <td>4678.506276</td>\n",
       "      <td>1887.359833</td>\n",
       "      <td>1601.125523</td>\n",
       "    </tr>\n",
       "    <tr>\n",
       "      <th>std</th>\n",
       "      <td>34.252773</td>\n",
       "      <td>20.331058</td>\n",
       "      <td>1210.819733</td>\n",
       "      <td>241.461128</td>\n",
       "      <td>34.317532</td>\n",
       "      <td>103.287335</td>\n",
       "      <td>2.730696</td>\n",
       "      <td>58.205012</td>\n",
       "      <td>737.851774</td>\n",
       "      <td>187.005674</td>\n",
       "      <td>1.003961</td>\n",
       "      <td>369.210573</td>\n",
       "      <td>73.656807</td>\n",
       "      <td>130.754851</td>\n",
       "    </tr>\n",
       "    <tr>\n",
       "      <th>min</th>\n",
       "      <td>125.000000</td>\n",
       "      <td>21.300000</td>\n",
       "      <td>72.000000</td>\n",
       "      <td>113.000000</td>\n",
       "      <td>109.000000</td>\n",
       "      <td>135.000000</td>\n",
       "      <td>2.200000</td>\n",
       "      <td>29.000000</td>\n",
       "      <td>0.000000</td>\n",
       "      <td>151.000000</td>\n",
       "      <td>2.000000</td>\n",
       "      <td>3620.000000</td>\n",
       "      <td>1610.000000</td>\n",
       "      <td>1329.000000</td>\n",
       "    </tr>\n",
       "    <tr>\n",
       "      <th>25%</th>\n",
       "      <td>160.000000</td>\n",
       "      <td>60.000000</td>\n",
       "      <td>150.000000</td>\n",
       "      <td>305.000000</td>\n",
       "      <td>143.000000</td>\n",
       "      <td>320.000000</td>\n",
       "      <td>4.800000</td>\n",
       "      <td>80.000000</td>\n",
       "      <td>500.000000</td>\n",
       "      <td>385.000000</td>\n",
       "      <td>5.000000</td>\n",
       "      <td>4440.000000</td>\n",
       "      <td>1849.000000</td>\n",
       "      <td>1514.000000</td>\n",
       "    </tr>\n",
       "    <tr>\n",
       "      <th>50%</th>\n",
       "      <td>180.000000</td>\n",
       "      <td>76.150000</td>\n",
       "      <td>216.000000</td>\n",
       "      <td>430.000000</td>\n",
       "      <td>155.000000</td>\n",
       "      <td>397.500000</td>\n",
       "      <td>6.600000</td>\n",
       "      <td>113.000000</td>\n",
       "      <td>1000.000000</td>\n",
       "      <td>470.000000</td>\n",
       "      <td>5.000000</td>\n",
       "      <td>4720.000000</td>\n",
       "      <td>1890.000000</td>\n",
       "      <td>1596.000000</td>\n",
       "    </tr>\n",
       "    <tr>\n",
       "      <th>75%</th>\n",
       "      <td>201.000000</td>\n",
       "      <td>90.600000</td>\n",
       "      <td>324.000000</td>\n",
       "      <td>679.000000</td>\n",
       "      <td>177.750000</td>\n",
       "      <td>470.000000</td>\n",
       "      <td>8.200000</td>\n",
       "      <td>150.000000</td>\n",
       "      <td>1600.000000</td>\n",
       "      <td>544.500000</td>\n",
       "      <td>5.000000</td>\n",
       "      <td>4961.000000</td>\n",
       "      <td>1939.000000</td>\n",
       "      <td>1665.000000</td>\n",
       "    </tr>\n",
       "    <tr>\n",
       "      <th>max</th>\n",
       "      <td>325.000000</td>\n",
       "      <td>118.000000</td>\n",
       "      <td>7920.000000</td>\n",
       "      <td>1350.000000</td>\n",
       "      <td>370.000000</td>\n",
       "      <td>685.000000</td>\n",
       "      <td>19.100000</td>\n",
       "      <td>281.000000</td>\n",
       "      <td>2500.000000</td>\n",
       "      <td>1410.000000</td>\n",
       "      <td>9.000000</td>\n",
       "      <td>5908.000000</td>\n",
       "      <td>2080.000000</td>\n",
       "      <td>1986.000000</td>\n",
       "    </tr>\n",
       "  </tbody>\n",
       "</table>\n",
       "</div>"
      ],
      "text/plain": [
       "       top_speed_kmh  battery_capacity_kWh  number_of_cells    torque_nm  \\\n",
       "count     478.000000            478.000000       276.000000   471.000000   \n",
       "mean      185.487448             74.043724       485.293478   498.012739   \n",
       "std        34.252773             20.331058      1210.819733   241.461128   \n",
       "min       125.000000             21.300000        72.000000   113.000000   \n",
       "25%       160.000000             60.000000       150.000000   305.000000   \n",
       "50%       180.000000             76.150000       216.000000   430.000000   \n",
       "75%       201.000000             90.600000       324.000000   679.000000   \n",
       "max       325.000000            118.000000      7920.000000  1350.000000   \n",
       "\n",
       "       efficiency_wh_per_km    range_km  acceleration_0_100_s  \\\n",
       "count            478.000000  478.000000            478.000000   \n",
       "mean             162.903766  393.179916              6.882636   \n",
       "std               34.317532  103.287335              2.730696   \n",
       "min              109.000000  135.000000              2.200000   \n",
       "25%              143.000000  320.000000              4.800000   \n",
       "50%              155.000000  397.500000              6.600000   \n",
       "75%              177.750000  470.000000              8.200000   \n",
       "max              370.000000  685.000000             19.100000   \n",
       "\n",
       "       fast_charging_power_kw_dc  towing_capacity_kg  cargo_volume_l  \\\n",
       "count                 477.000000          452.000000      474.000000   \n",
       "mean                  125.008386         1052.261062      493.860759   \n",
       "std                    58.205012          737.851774      187.005674   \n",
       "min                    29.000000            0.000000      151.000000   \n",
       "25%                    80.000000          500.000000      385.000000   \n",
       "50%                   113.000000         1000.000000      470.000000   \n",
       "75%                   150.000000         1600.000000      544.500000   \n",
       "max                   281.000000         2500.000000     1410.000000   \n",
       "\n",
       "            seats    length_mm     width_mm    height_mm  \n",
       "count  478.000000   478.000000   478.000000   478.000000  \n",
       "mean     5.263598  4678.506276  1887.359833  1601.125523  \n",
       "std      1.003961   369.210573    73.656807   130.754851  \n",
       "min      2.000000  3620.000000  1610.000000  1329.000000  \n",
       "25%      5.000000  4440.000000  1849.000000  1514.000000  \n",
       "50%      5.000000  4720.000000  1890.000000  1596.000000  \n",
       "75%      5.000000  4961.000000  1939.000000  1665.000000  \n",
       "max      9.000000  5908.000000  2080.000000  1986.000000  "
      ]
     },
     "execution_count": 12,
     "metadata": {},
     "output_type": "execute_result"
    }
   ],
   "source": [
    "df.describe()"
   ]
  },
  {
   "cell_type": "code",
   "execution_count": 13,
   "id": "366c5f89-92d3-4a8c-90f0-92f24d3601b8",
   "metadata": {},
   "outputs": [],
   "source": [
    "# fill missing values in colums\n",
    "df[\"number_of_cells\"].fillna(df[\"number_of_cells\"].median(), inplace=True)"
   ]
  },
  {
   "cell_type": "code",
   "execution_count": 14,
   "id": "d996b5b0-e991-4ca8-9708-ca19b4b28454",
   "metadata": {},
   "outputs": [],
   "source": [
    "df[\"towing_capacity_kg\"].fillna(df[\"towing_capacity_kg\"].median(), inplace=True)"
   ]
  },
  {
   "cell_type": "code",
   "execution_count": 15,
   "id": "497a8225-40c9-411f-a093-07aace237ef8",
   "metadata": {},
   "outputs": [],
   "source": [
    "df=df[df[\"model\"].notna()]"
   ]
  },
  {
   "cell_type": "code",
   "execution_count": 16,
   "id": "84e4bdf5-f739-40f7-a898-ad58cfd2a48d",
   "metadata": {},
   "outputs": [],
   "source": [
    "df[\"torque_nm\"].fillna(df[\"torque_nm\"].median(), inplace=True)"
   ]
  },
  {
   "cell_type": "code",
   "execution_count": 17,
   "id": "3e94e9a3-f686-47c5-9327-c68bda398c79",
   "metadata": {},
   "outputs": [],
   "source": [
    "df[\"cargo_volume_l\"].fillna(df[\"cargo_volume_l\"].median(), inplace=True)"
   ]
  },
  {
   "cell_type": "code",
   "execution_count": 18,
   "id": "79f3faa1-9d86-4994-b64e-d9b9828c5b8a",
   "metadata": {},
   "outputs": [],
   "source": [
    "df[\"fast_charging_power_kw_dc\"].fillna(df[\"fast_charging_power_kw_dc\"].median(), inplace=True)"
   ]
  },
  {
   "cell_type": "code",
   "execution_count": 19,
   "id": "a12d9de5-629f-44f2-83eb-e02507bc8906",
   "metadata": {},
   "outputs": [],
   "source": [
    "df=df[df[\"fast_charge_port\"].notna()]"
   ]
  },
  {
   "cell_type": "code",
   "execution_count": 20,
   "id": "c945fb37-cdf5-47ec-bd1b-ee1fb23aace9",
   "metadata": {},
   "outputs": [
    {
     "data": {
      "text/plain": [
       "brand                        0\n",
       "model                        0\n",
       "top_speed_kmh                0\n",
       "battery_capacity_kWh         0\n",
       "battery_type                 0\n",
       "number_of_cells              0\n",
       "torque_nm                    0\n",
       "efficiency_wh_per_km         0\n",
       "range_km                     0\n",
       "acceleration_0_100_s         0\n",
       "fast_charging_power_kw_dc    0\n",
       "fast_charge_port             0\n",
       "towing_capacity_kg           0\n",
       "cargo_volume_l               0\n",
       "seats                        0\n",
       "drivetrain                   0\n",
       "segment                      0\n",
       "length_mm                    0\n",
       "width_mm                     0\n",
       "height_mm                    0\n",
       "car_body_type                0\n",
       "source_url                   0\n",
       "dtype: int64"
      ]
     },
     "execution_count": 20,
     "metadata": {},
     "output_type": "execute_result"
    }
   ],
   "source": [
    "df.isnull().sum()"
   ]
  },
  {
   "cell_type": "code",
   "execution_count": 21,
   "id": "757dfc92-1d09-44fd-8128-0f481257d709",
   "metadata": {},
   "outputs": [
    {
     "name": "stdout",
     "output_type": "stream",
     "text": [
      "<class 'pandas.core.frame.DataFrame'>\n",
      "Index: 476 entries, 0 to 476\n",
      "Data columns (total 22 columns):\n",
      " #   Column                     Non-Null Count  Dtype  \n",
      "---  ------                     --------------  -----  \n",
      " 0   brand                      476 non-null    object \n",
      " 1   model                      476 non-null    object \n",
      " 2   top_speed_kmh              476 non-null    int64  \n",
      " 3   battery_capacity_kWh       476 non-null    float64\n",
      " 4   battery_type               476 non-null    object \n",
      " 5   number_of_cells            476 non-null    float64\n",
      " 6   torque_nm                  476 non-null    float64\n",
      " 7   efficiency_wh_per_km       476 non-null    int64  \n",
      " 8   range_km                   476 non-null    int64  \n",
      " 9   acceleration_0_100_s       476 non-null    float64\n",
      " 10  fast_charging_power_kw_dc  476 non-null    float64\n",
      " 11  fast_charge_port           476 non-null    object \n",
      " 12  towing_capacity_kg         476 non-null    float64\n",
      " 13  cargo_volume_l             476 non-null    float64\n",
      " 14  seats                      476 non-null    int64  \n",
      " 15  drivetrain                 476 non-null    object \n",
      " 16  segment                    476 non-null    object \n",
      " 17  length_mm                  476 non-null    int64  \n",
      " 18  width_mm                   476 non-null    int64  \n",
      " 19  height_mm                  476 non-null    int64  \n",
      " 20  car_body_type              476 non-null    object \n",
      " 21  source_url                 476 non-null    object \n",
      "dtypes: float64(7), int64(7), object(8)\n",
      "memory usage: 85.5+ KB\n"
     ]
    }
   ],
   "source": [
    "df.info()"
   ]
  },
  {
   "cell_type": "code",
   "execution_count": 22,
   "id": "eaa834b7-87ae-4e93-854f-700e96c33746",
   "metadata": {},
   "outputs": [
    {
     "data": {
      "image/png": "[encoded data removed]",
      "text/plain": [
       "<Figure size 800x500 with 1 Axes>"
      ]
     },
     "metadata": {},
     "output_type": "display_data"
    }
   ],
   "source": [
    "#histogram of range_km\n",
    "fig, ax = plt.subplots(figsize=(8, 5))\n",
    "ax.hist(df['range_km'])\n",
    "ax.set_title(\"Distribution of EV Range\")\n",
    "ax.set_xlabel(\"Range (km)\")\n",
    "ax.set_ylabel(\"Number of Vehicles\")\n",
    "\n",
    "plt.show()"
   ]
  },
  {
   "cell_type": "code",
   "execution_count": 23,
   "id": "7cf8b0f2-8665-4788-a32a-a9737c72814e",
   "metadata": {},
   "outputs": [
    {
     "data": {
      "text/plain": [
       "-0.1636571201546916"
      ]
     },
     "execution_count": 23,
     "metadata": {},
     "output_type": "execute_result"
    }
   ],
   "source": [
    "df['range_km'].skew() "
   ]
  },
  {
   "cell_type": "code",
   "execution_count": 24,
   "id": "06991b94-4fb3-4411-aa45-69796e3e7c55",
   "metadata": {},
   "outputs": [
    {
     "name": "stderr",
     "output_type": "stream",
     "text": [
      "/Users/macuser/anaconda3/lib/python3.11/site-packages/seaborn/_oldcore.py:1119: FutureWarning: use_inf_as_na option is deprecated and will be removed in a future version. Convert inf values to NaN before operating instead.\n",
      "  with pd.option_context('mode.use_inf_as_na', True):\n"
     ]
    },
    {
     "data": {
      "text/plain": [
       "Text(0.5, 1.0, 'Distribution of EV Range')"
      ]
     },
     "execution_count": 24,
     "metadata": {},
     "output_type": "execute_result"
    },
    {
     "data": {
      "image/png": "[encoded data removed]",
      "text/plain": [
       "<Figure size 640x480 with 1 Axes>"
      ]
     },
     "metadata": {},
     "output_type": "display_data"
    }
   ],
   "source": [
    "sns.histplot(df[\"range_km\"], kde=True)\n",
    "plt.title(\"Distribution of EV Range\") #EV-electric vehicle"
   ]
  },
  {
   "cell_type": "code",
   "execution_count": null,
   "id": "04deef3b-4979-48d2-a577-06805a3e6d38",
   "metadata": {},
   "outputs": [],
   "source": []
  }
 ],
 "metadata": {
  "kernelspec": {
   "display_name": "Python [conda env:base] *",
   "language": "python",
   "name": "conda-base-py"
  },
  "language_info": {
   "codemirror_mode": {
    "name": "ipython",
    "version": 3
   },
   "file_extension": ".py",
   "mimetype": "text/x-python",
   "name": "python",
   "nbconvert_exporter": "python",
   "pygments_lexer": "ipython3",
   "version": "3.11.7"
  }
 },
 "nbformat": 4,
 "nbformat_minor": 5
}
